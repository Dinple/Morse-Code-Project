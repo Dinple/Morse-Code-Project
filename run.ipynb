{
 "cells": [
  {
   "cell_type": "code",
   "execution_count": 1,
   "metadata": {},
   "outputs": [],
   "source": [
    "import os, sys\n",
    "sys.path.append(\"./src\") # add src to import path\n",
    "from eng_to_morse import English2MorseTranslator # import translator class"
   ]
  },
  {
   "cell_type": "code",
   "execution_count": 2,
   "metadata": {},
   "outputs": [
    {
     "name": "stdout",
     "output_type": "stream",
     "text": [
      "Enter a message to translate to morse code:\n",
      ".--- --- .... -. ... --- -.  ...  ..-. .- - .... . .-.  .. ...  .--- --- .... -. \n"
     ]
    }
   ],
   "source": [
    "# get input from user\n",
    "print(\"Enter a message to translate to morse code:\")\n",
    "msg = input()\n",
    "\n",
    "# translate message\n",
    "translator = English2MorseTranslator()\n",
    "morse_msg = translator.translate(msg)\n",
    "\n",
    "# print translated message\n",
    "print(morse_msg)"
   ]
  }
 ],
 "metadata": {
  "kernelspec": {
   "display_name": "Python 3",
   "language": "python",
   "name": "python3"
  },
  "language_info": {
   "codemirror_mode": {
    "name": "ipython",
    "version": 3
   },
   "file_extension": ".py",
   "mimetype": "text/x-python",
   "name": "python",
   "nbconvert_exporter": "python",
   "pygments_lexer": "ipython3",
   "version": "3.10.13"
  }
 },
 "nbformat": 4,
 "nbformat_minor": 2
}
